{
 "cells": [
  {
   "cell_type": "markdown",
   "metadata": {},
   "source": [
    "### Zadatak 3\n",
    "Zadana je rekurzijska relacija\n",
    "$${a_n = 6 a_{n-1} - 11 a_{n-2} + 6 a_{n-3}}$$\n",
    "uz ${a_0 = x}$, ${a_1 = y}$ i ${a_2 = z}$. Odredite ${x}$, ${y}$ i ${z}$ tako da vrijedi ${a(5) = 455}$,\n",
    "${a(6) = 1395}$ i ${a(7) = 4247}$."
   ]
  },
  {
   "cell_type": "code",
   "execution_count": 7,
   "metadata": {},
   "outputs": [
    {
     "name": "stdout",
     "output_type": "stream",
     "text": [
      "[150*x - 239*y + 90*z - 455, 540*x - 840*y + 301*z - 1395, 1806*x - 2771*y + 966*z - 4247]\n",
      "Rješenje je {x: 2, y: 5, z: 15}\n"
     ]
    }
   ],
   "source": [
    "from sympy import *\n",
    "\n",
    "x, y, z = symbols('x, y, z')\n",
    "def rekurzija(n):\n",
    "    if (n<0):\n",
    "        return 1\n",
    "    elif (n==0):\n",
    "        return x\n",
    "    elif (n==1):\n",
    "        return y\n",
    "    elif (n==2):\n",
    "        return z\n",
    "    else:\n",
    "        return 6*rekurzija(n-1) - 11*rekurzija(n-2) + 6*rekurzija(n-3)\n",
    "\n",
    "\n",
    "eqns = [(rekurzija(5) - 455), (rekurzija(6) - 1395), (rekurzija(7) - 4247)]\n",
    "print(eqns)\n",
    "print('Rješenje je', solve(eqns, (x, y, z)))"
   ]
  }
 ],
 "metadata": {
  "kernelspec": {
   "display_name": "Python 3",
   "language": "python",
   "name": "python3"
  },
  "language_info": {
   "codemirror_mode": {
    "name": "ipython",
    "version": 3
   },
   "file_extension": ".py",
   "mimetype": "text/x-python",
   "name": "python",
   "nbconvert_exporter": "python",
   "pygments_lexer": "ipython3",
   "version": "3.8.5"
  }
 },
 "nbformat": 4,
 "nbformat_minor": 4
}
