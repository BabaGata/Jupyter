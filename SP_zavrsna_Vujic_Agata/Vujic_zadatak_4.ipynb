{
 "cells": [
  {
   "cell_type": "markdown",
   "metadata": {},
   "source": [
    "### Zadatak 4\n",
    "Napravite niz od 10 jednakoudaljenih brojeva u intervalu \\[1, 10\\]. Svakom broju\n",
    "pridružite drugi broj po formuli\n",
    "$${y = a \\times x + b}$$\n",
    "te pogrešku vezanu uz ${y}$.\n",
    "Pri tome su ${a}$ nasumično generirani brojevi iz intervala \\[-1, 1\\], a ${b}$ nasumično generirani brojevi iz intervala \\[-10, 10\\].<br>\n",
    "Pogreške od ${y}$ generirajte tako da za svaki ${y}$ pogreška bude nasumični broj iz Gaussove raspodjele sa sredinom u 0 i standardnom devijacijom jednakom ${b}$.<br>\n",
    "Nacrtajte graf ovisnosti ${y}$ o ${x}$ i ucrtajte generirane točke s pogreškama u njega.<br>\n",
    "Nafitajte linearnu funkciju na generirane podatke i ucrtajte pravac u isti graf.<br>\n",
    "Ispišite parametre fita s pogreškama i izračunajte zbroj kvadrata odstupanja pravca od točaka."
   ]
  },
  {
   "cell_type": "code",
   "execution_count": 1,
   "metadata": {},
   "outputs": [
    {
     "name": "stdout",
     "output_type": "stream",
     "text": [
      "a = -0.574 +/- 1.120\n",
      "b = 2.513 +/- 6.950\n",
      "Zbroj kvadrata odstupanja = 828.0287664682659\n"
     ]
    },
    {
     "data": {
      "text/plain": [
       "[<matplotlib.lines.Line2D at 0x1d707c6a490>]"
      ]
     },
     "execution_count": 1,
     "metadata": {},
     "output_type": "execute_result"
    },
    {
     "data": {
      "image/png": "[encoded data removed]",
      "text/plain": [
       "<Figure size 432x288 with 1 Axes>"
      ]
     },
     "metadata": {
      "needs_background": "light"
     },
     "output_type": "display_data"
    }
   ],
   "source": [
    "import numpy as np\n",
    "import scipy.stats\n",
    "import matplotlib.pyplot as plt\n",
    "from scipy.optimize import curve_fit\n",
    "\n",
    "x = np.linspace(1, 10, 10)\n",
    "b = np.random.uniform(-10, 10, 10)\n",
    "a = np.random.uniform(-1, 1, 10)\n",
    "y = a*x + b\n",
    "\n",
    "pogreske = np.abs(np.random.normal(loc=0, scale=np.abs(b), size=10))\n",
    "\n",
    "def model(x, a, b):\n",
    "    return a*x + b\n",
    "\n",
    "pars, cov = curve_fit(model, x, y)\n",
    "for k, par in enumerate(['a', 'b']):\n",
    "    print('{} = {:.3f} +/- {:.3f}'.format(par, pars[k], np.sqrt(cov[k,k])))\n",
    "    \n",
    "print('Zbroj kvadrata odstupanja =', np.sum((y-model(x, *pars))**2))\n",
    "\n",
    "fig, ax = plt.subplots()\n",
    "ax.errorbar(x, y, yerr = pogreske, fmt='o')\n",
    "ax.plot(x, model(x, *pars))"
   ]
  },
  {
   "cell_type": "code",
   "execution_count": null,
   "metadata": {},
   "outputs": [],
   "source": []
  }
 ],
 "metadata": {
  "kernelspec": {
   "display_name": "Python 3",
   "language": "python",
   "name": "python3"
  },
  "language_info": {
   "codemirror_mode": {
    "name": "ipython",
    "version": 3
   },
   "file_extension": ".py",
   "mimetype": "text/x-python",
   "name": "python",
   "nbconvert_exporter": "python",
   "pygments_lexer": "ipython3",
   "version": "3.8.5"
  }
 },
 "nbformat": 4,
 "nbformat_minor": 4
}
