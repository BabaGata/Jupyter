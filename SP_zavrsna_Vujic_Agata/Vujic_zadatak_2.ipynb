{
 "cells": [
  {
   "cell_type": "markdown",
   "metadata": {},
   "source": [
    "### Zadatak 2\n",
    "Funkcija ${f(x, z)}$ defnirana je kao\n",
    "$${f(x, z) = \\frac{1}{z^{-1}e^x - 1}}$$\n",
    "Integral funkcije po ${x}$ na intevalu ${[0, \\infty\\rangle}$ bit će funkcija ${g(z)}$:\n",
    "$${g(z) = \\int_{0}^{\\infty}f(x, z)dx}$$\n",
    "Simboličcki integrirajte funkciju ${f(x, z)}$ po ${x}$ na intevalu ${[0, \\infty\\rangle}$ da dobijete funkciju ${g(z)}$. Odredite limes ${g(z)}$ kada ${z \\to 1}$.\n",
    "<br>Nacrtajte ovisnost ${f(1, z)}$ i ${g(z)}$ o ${z}$ za ${z \\in [0, 1\\rangle}$ na istom grafu. Na ${y-os}$\n",
    "postavite logaritamsku skalu."
   ]
  },
  {
   "cell_type": "code",
   "execution_count": 32,
   "metadata": {},
   "outputs": [
    {
     "name": "stdout",
     "output_type": "stream",
     "text": [
      "Limes funkcije g(z) je oo\n"
     ]
    },
    {
     "data": {
      "image/png": "[encoded data removed]",
      "text/plain": [
       "<Figure size 432x288 with 1 Axes>"
      ]
     },
     "metadata": {
      "needs_background": "light"
     },
     "output_type": "display_data"
    }
   ],
   "source": [
    "from sympy import *\n",
    "import numpy as np\n",
    "import matplotlib.pyplot as plt\n",
    "\n",
    "x, z = symbols('x, z')\n",
    "\n",
    "f = 1/(z**(-1) * exp(x) - 1)\n",
    "g = integrate(f, (x, 0, oo))\n",
    "\n",
    "print('Limes funkcije g(z) je', limit(g, z, 1))\n",
    "Z = np.linspace(0, 1, 200, endpoint=False)\n",
    "F = [f.subs({x:1, z:n}) for n in Z]\n",
    "G = [g.subs({z:n}) for n in Z]\n",
    "\n",
    "fig, ax = plt.subplots()\n",
    "ax.plot(Z, F)\n",
    "ax.plot(Z, G)\n",
    "ax.set_yscale('log')"
   ]
  }
 ],
 "metadata": {
  "kernelspec": {
   "display_name": "Python 3",
   "language": "python",
   "name": "python3"
  },
  "language_info": {
   "codemirror_mode": {
    "name": "ipython",
    "version": 3
   },
   "file_extension": ".py",
   "mimetype": "text/x-python",
   "name": "python",
   "nbconvert_exporter": "python",
   "pygments_lexer": "ipython3",
   "version": "3.8.5"
  }
 },
 "nbformat": 4,
 "nbformat_minor": 4
}
