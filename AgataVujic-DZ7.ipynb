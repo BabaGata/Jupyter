{
 "cells": [
  {
   "cell_type": "markdown",
   "metadata": {},
   "source": [
    "### Zadatak 1\n",
    "Odredite Taylorov razvoj funkcije ${𝑓(𝑥) = \\arctan(𝑥2 + 1)}$ oko točke ${𝑥 = \\infty}$ do petog reda."
   ]
  },
  {
   "cell_type": "code",
   "execution_count": 2,
   "metadata": {},
   "outputs": [
    {
     "data": {
      "text/latex": [
       "$\\displaystyle \\frac{1}{x^{4}} - \\frac{1}{x^{2}} + \\frac{\\pi}{2} + O\\left(\\frac{1}{x^{5}}; x\\rightarrow \\infty\\right)$"
      ],
      "text/plain": [
       "x**(-4) - 1/x**2 + pi/2 + O(x**(-5), (x, oo))"
      ]
     },
     "execution_count": 2,
     "metadata": {},
     "output_type": "execute_result"
    }
   ],
   "source": [
    "from sympy import *\n",
    "import numpy as np\n",
    "\n",
    "def f(x):\n",
    "    return np.arctan(1 + x**2)\n",
    "\n",
    "x = symbols('x')\n",
    "\n",
    "red = series(atan(x**2 + 1), x, oo, 5)"
   ]
  },
  {
   "cell_type": "markdown",
   "metadata": {},
   "source": [
    "### Zadatak 2\n",
    "Kolika je relativna pogreška koju radimo ako za izvrijednjavanje ${𝑓(2) = \\arctan(5)}$ koristimo red\n",
    "dobiven u gornjem zadatku? Da li bi greška bila manja da smo upotrebljavali razvoj do petog reda,\n",
    "ali oko 𝑥 = 0?"
   ]
  },
  {
   "cell_type": "code",
   "execution_count": 14,
   "metadata": {},
   "outputs": [
    {
     "name": "stdout",
     "output_type": "stream",
     "text": [
      "0.00720515095669594 1.88437538833206\n"
     ]
    }
   ],
   "source": [
    "from sympy import *\n",
    "import numpy as np\n",
    "\n",
    "def f(x):\n",
    "    return np.arctan(1 + x**2)\n",
    "\n",
    "def pogreska(red, x0):\n",
    "    return abs(1 - (N(red.removeO().subs({x:x0}))/f(x0)))\n",
    "\n",
    "x = symbols('x')\n",
    "\n",
    "red1 = series(atan(x**2 + 1), x, oo, 5)\n",
    "red2 = series(atan(x**2 + 1), x, 0, 5)\n",
    "\n",
    "print(pogreska(red1, 2), pogreska(red2, 2))"
   ]
  },
  {
   "cell_type": "markdown",
   "metadata": {},
   "source": [
    "### Zadatak 3\n",
    "Za koji 𝑥 greška razvoja funkcije ${𝑓(𝑥) = \\arctan(𝑥2 + 1)}$ do petog reda oko točke 𝑥 = 0 postaje\n",
    "jednaka greški istog razvoja, ali oko točke ${𝑥 = \\infty}$?"
   ]
  },
  {
   "cell_type": "code",
   "execution_count": 30,
   "metadata": {},
   "outputs": [
    {
     "name": "stdout",
     "output_type": "stream",
     "text": [
      "1.1856856856856857\n",
      "1.1866866866866865\n",
      "1.1876876876876876\n",
      "1.1886886886886887\n",
      "1.1896896896896898\n",
      "1.1906906906906907\n",
      "1.1916916916916915\n"
     ]
    }
   ],
   "source": [
    "from sympy import *\n",
    "import numpy as np\n",
    "\n",
    "def f(x):\n",
    "    return np.arctan(1 + x**2)\n",
    "\n",
    "def pogreska(red, x0):\n",
    "    return abs(1 - (N(red.removeO().subs({x:x0}))/f(x0)))\n",
    "\n",
    "x = symbols('x')\n",
    "\n",
    "red1 = series(atan(x**2 + 1), x, oo, 5)\n",
    "red2 = series(atan(x**2 + 1), x, 0, 5)\n",
    "\n",
    "X = np.linspace(0.5, 1.5, 10**3)\n",
    "\n",
    "for i in X:\n",
    "    if round(pogreska(red1, i), 2) == round(pogreska(red2, i), 2):\n",
    "        print(i)"
   ]
  },
  {
   "cell_type": "markdown",
   "metadata": {},
   "source": [
    "### Zadatak 4\n",
    "Izračunajte neodređeni integral $${\\int \\frac{𝑥2 + 3}{𝑥5 + 𝑥4 − 𝑥 − 1}𝑑𝑥}$$\n",
    "i onda provjerite dobiveni rezultat deriviranjem i <font color=blue>algebarskim manipulacijama</font>."
   ]
  },
  {
   "cell_type": "code",
   "execution_count": 8,
   "metadata": {},
   "outputs": [
    {
     "name": "stdout",
     "output_type": "stream",
     "text": [
      "x/4 + 13*log(8*x - 1)/32\n"
     ]
    },
    {
     "data": {
      "text/plain": [
       "True"
      ]
     },
     "execution_count": 8,
     "metadata": {},
     "output_type": "execute_result"
    }
   ],
   "source": [
    "from sympy import *\n",
    "\n",
    "x = symbols('x')\n",
    "\n",
    "func = (x*2 + 3)/(x*5 + x*4 - x - 1)\n",
    "\n",
    "integral = integrate(func, x)\n",
    "print(integral)\n",
    "\n",
    "func.simplify() == diff(integral, x).simplify()"
   ]
  },
  {
   "cell_type": "markdown",
   "metadata": {},
   "source": [
    "### Zadatak 5\n",
    "Izračunajte (simbolički) dvostruki određeni integral $${\\int_{0}^{1}𝑑𝑥\\int_{0}^{1−𝑥}𝑑𝑦 𝑥𝑦^2}$$"
   ]
  },
  {
   "cell_type": "code",
   "execution_count": 13,
   "metadata": {},
   "outputs": [
    {
     "data": {
      "text/latex": [
       "$\\displaystyle \\frac{1}{60}$"
      ],
      "text/plain": [
       "1/60"
      ]
     },
     "execution_count": 13,
     "metadata": {},
     "output_type": "execute_result"
    }
   ],
   "source": [
    "from sympy import *\n",
    "\n",
    "x, y = symbols('x, y')\n",
    "\n",
    "integrate(integrate(x * y**2, (y, 0, 1 -x)), (x, 0, 1))"
   ]
  },
  {
   "cell_type": "markdown",
   "metadata": {},
   "source": [
    "### Zadatak 6\n",
    "Izračunajte dvostruki neodređeni integral $${\\int 𝑑𝑥 \\int 𝑑𝑦 (𝑥 + 𝑦) \\sqrt{𝑥𝑦^3}}$$\n",
    "i provjerite rezultat deriviranjem."
   ]
  },
  {
   "cell_type": "code",
   "execution_count": 62,
   "metadata": {},
   "outputs": [
    {
     "name": "stdout",
     "output_type": "stream",
     "text": [
      "4*x**(5/2)*y*sqrt(y**3)/25 + 4*x**(3/2)*y**2*sqrt(y**3)/21\n"
     ]
    },
    {
     "data": {
      "text/latex": [
       "$\\displaystyle \\sqrt{x} \\left(x + y\\right) \\sqrt{y^{3}}$"
      ],
      "text/plain": [
       "sqrt(x)*(x + y)*sqrt(y**3)"
      ]
     },
     "execution_count": 62,
     "metadata": {},
     "output_type": "execute_result"
    }
   ],
   "source": [
    "from sympy import *\n",
    "\n",
    "x, y = symbols('x, y')\n",
    "\n",
    "eqn = (x + y)*sqrt(x * y**3)\n",
    "\n",
    "a = integrate(integrate(eqn, y), x)\n",
    "print(a)\n",
    "\n",
    "diff(diff(a, y), x).simplify()"
   ]
  },
  {
   "cell_type": "markdown",
   "metadata": {},
   "source": [
    "### Zadatak 7\n",
    "Izračunajte integral $${\\int_{0}^{\\infty}dt e^{−t}\\sqrt{t}}$$\n",
    "simbolički i numerički i usporedite rezultate. Naputak: $\\texttt{oo}$ je simbolička beskonačnost, a za potrebe\n",
    "numeričke integracije, beskonačnost je reprezentirana kao $\\texttt{np.inf}$."
   ]
  },
  {
   "cell_type": "code",
   "execution_count": 18,
   "metadata": {},
   "outputs": [
    {
     "name": "stdout",
     "output_type": "stream",
     "text": [
      "0.886226925452758\n",
      "(0.8862269254536111, 9.077554263825505e-10)\n"
     ]
    }
   ],
   "source": [
    "from sympy import *\n",
    "import scipy.integrate\n",
    "import numpy as np\n",
    "\n",
    "t = symbols('t')\n",
    "jedn = exp(-t)*sqrt(t)\n",
    "\n",
    "print(N(integrate(jedn, (t, 0, oo))))\n",
    "print(scipy.integrate.quad(lambdify(t, jedn), 0, np.inf))"
   ]
  }
 ],
 "metadata": {
  "kernelspec": {
   "display_name": "Python 3",
   "language": "python",
   "name": "python3"
  },
  "language_info": {
   "codemirror_mode": {
    "name": "ipython",
    "version": 3
   },
   "file_extension": ".py",
   "mimetype": "text/x-python",
   "name": "python",
   "nbconvert_exporter": "python",
   "pygments_lexer": "ipython3",
   "version": "3.8.5"
  }
 },
 "nbformat": 4,
 "nbformat_minor": 4
}
