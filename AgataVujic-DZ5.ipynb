{
 "cells": [
  {
   "cell_type": "markdown",
   "metadata": {},
   "source": [
    "### Zadatak 1\n",
    "Uzmite izraz ${(𝑎+𝑏)((𝑐+𝑦x)x+𝑡x^2)}$ i algebarskim manipulacijama postignite prikaz u slijedećim\n",
    "ekvivalentnim oblicima\n",
    "1. ${x(𝑎 + 𝑏)(𝑐 + 𝑡x + xy)}$\n",
    "2. ${𝑎𝑐x + 𝑎𝑡x^2 + 𝑎x^2x + 𝑏𝑐x + 𝑏𝑡x^2 + 𝑏x^2y}$"
   ]
  },
  {
   "cell_type": "code",
   "execution_count": 9,
   "metadata": {
    "scrolled": true
   },
   "outputs": [
    {
     "name": "stdout",
     "output_type": "stream",
     "text": [
      "x*(a + b)*(c + t*x + x*y)\n",
      "a*c*x + a*t*x**2 + a*x**2*y + b*c*x + b*t*x**2 + b*x**2*y\n"
     ]
    }
   ],
   "source": [
    "from sympy import *\n",
    "a, b, c, t, x, y = symbols('a, b, c, t, x, y')\n",
    "f = (a+b)*((c+y*x)*x+t*x**2)\n",
    "print(factor(f))\n",
    "print(f.expand())"
   ]
  },
  {
   "cell_type": "markdown",
   "metadata": {},
   "source": [
    "### Zadatak 2\n",
    "Koristeći algebarske manipulacije pokažite da vrijedi\n",
    "$${\\frac{\\sin^3{𝑥} + \\cos^3{𝑥}}{\\sin{𝑥} + \\cos{𝑥}} = 1 − \\sin{𝑥} \\cos{𝑥}}$$\n",
    "Pazite na sintaksu: ${\\sin^3 𝑥}$ se unosi kao sin(x)**3!"
   ]
  },
  {
   "cell_type": "code",
   "execution_count": 8,
   "metadata": {},
   "outputs": [
    {
     "data": {
      "text/plain": [
       "True"
      ]
     },
     "execution_count": 8,
     "metadata": {},
     "output_type": "execute_result"
    }
   ],
   "source": [
    "from sympy import *\n",
    "x = symbols('x')\n",
    "a = (sin(x)**3 + cos(x)**3)/(sin(x) + cos(x))\n",
    "b = 1 - sin(x)*cos(x)\n",
    "simplify(a) == simplify(b)"
   ]
  },
  {
   "cell_type": "markdown",
   "metadata": {},
   "source": [
    "### Zadatak 3\n",
    "Za izraz ${f(x)}$ kažemo da je paran, odnosno neparan u varijabli ${x}$ ako vrijedi ${f(x) = f(-x)}$,\n",
    "odnosno ${f(x) = -f(-x)}$. Isprogramirajte funkciju $\\texttt{parnost(izraz, varijabla)}$ koja će\n",
    "testirati to svojstvo i vraćati 1 ako je izraz paran u varijabli, -1 ako je neparan i 0 ako nije ni paran\n",
    "ni neparan."
   ]
  },
  {
   "cell_type": "code",
   "execution_count": 7,
   "metadata": {},
   "outputs": [
    {
     "data": {
      "text/plain": [
       "0"
      ]
     },
     "execution_count": 7,
     "metadata": {},
     "output_type": "execute_result"
    }
   ],
   "source": [
    "from sympy import *\n",
    "def parnost(f, x):\n",
    "    if f.simplify() == f.subs({x:-x}).simplify():\n",
    "        return 1\n",
    "    elif f.simplify() == -f.subs({x:-x}).simplify():\n",
    "        return -1\n",
    "    else:\n",
    "        return 0\n",
    "\n",
    "x = symbols('x')\n",
    "parnost(x**3 - 1, x)"
   ]
  },
  {
   "cell_type": "markdown",
   "metadata": {},
   "source": [
    "### Zadatak 4\n",
    "Isprogramirajte funkciju $\\texttt{leg(n, x)}$ koja vraća Legendreov polinom ${𝑃_{n}(𝑥)}$ u simboličkoj varijabli\n",
    "x, koristeći rekurzijsku relaciju\n",
    "$${𝑃_{n}(𝑥) = \\frac{2𝑛 − 1}{𝑛}𝑥𝑃_{𝑛−1}(𝑥) − \\frac{𝑛 − 1}{𝑛}𝑃_{𝑛}(𝑥)}$$\n",
    "Funkcija treba davati identične rezultate kao sympy funkcija legendre(n, x)."
   ]
  },
  {
   "cell_type": "code",
   "execution_count": 6,
   "metadata": {},
   "outputs": [
    {
     "data": {
      "text/latex": [
       "$\\displaystyle P_n(2)$"
      ],
      "text/plain": [
       "<IPython.core.display.Math object>"
      ]
     },
     "metadata": {},
     "output_type": "display_data"
    }
   ],
   "source": [
    "from sympy import *\n",
    "from IPython.display import display, Math\n",
    "\n",
    "def is_number(n):\n",
    "    try:\n",
    "        float(n)\n",
    "    except ValueError and TypeError:\n",
    "        return False\n",
    "    return True\n",
    "\n",
    "def leg(n, x):\n",
    "    if not is_number(n):\n",
    "        return display(Math(r'P_{}({})'.format(n, x)))\n",
    "    else:\n",
    "        if n <= 0:\n",
    "            return 1\n",
    "        else:\n",
    "            return  Rational(N(((2*n - 1)/n)*x*leg(n-1, x) - ((n - 1)/n)*leg(n-2, x), n=10))\n",
    "\n",
    "\n",
    "n = symbols('n')\n",
    "leg(n, 2)"
   ]
  }
 ],
 "metadata": {
  "kernelspec": {
   "display_name": "Python 3",
   "language": "python",
   "name": "python3"
  },
  "language_info": {
   "codemirror_mode": {
    "name": "ipython",
    "version": 3
   },
   "file_extension": ".py",
   "mimetype": "text/x-python",
   "name": "python",
   "nbconvert_exporter": "python",
   "pygments_lexer": "ipython3",
   "version": "3.8.5"
  }
 },
 "nbformat": 4,
 "nbformat_minor": 4
}
