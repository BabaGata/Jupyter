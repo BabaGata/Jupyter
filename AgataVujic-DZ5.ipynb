{
 "cells": [
  {
   "cell_type": "markdown",
   "metadata": {},
   "source": [
    "### Zadatak 1\n",
    "Uzmite izraz ${(𝑎+𝑏)((𝑐+𝑦x)x+𝑡x^2)}$ i algebarskim manipulacijama postignite prikaz u slijedećim\n",
    "ekvivalentnim oblicima\n",
    "1. ${x(𝑎 + 𝑏)(𝑐 + 𝑡x + xy)}$\n",
    "2. ${𝑎𝑐x + 𝑎𝑡x^2 + 𝑎x^2x + 𝑏𝑐x + 𝑏𝑡x^2 + 𝑏x^2y}$"
   ]
  },
  {
   "cell_type": "code",
   "execution_count": 16,
   "metadata": {},
   "outputs": [
    {
     "name": "stdout",
     "output_type": "stream",
     "text": [
      "x*(a + b)*(c + t*x + x*y)\n",
      "a*c*x + a*t*x**2 + a*x**2*y + b*c*x + b*t*x**2 + b*x**2*y\n"
     ]
    }
   ],
   "source": [
    "from sympy import *\n",
    "a, b, c, t, x, y = symbols('a, b, c, t, x, y')\n",
    "f = (a+b)*((c+y*x)*x+t*x**2)\n",
    "print(factor(f))\n",
    "print(f.expand())"
   ]
  },
  {
   "cell_type": "markdown",
   "metadata": {},
   "source": [
    "### Zadatak 2\n",
    "Koristeći algebarske manipulacije pokažite da vrijedi\n",
    "$${\\frac{\\sin^3{𝑥} + \\cos^3{𝑥}}{\\sin{𝑥} + \\cos{𝑥}} = 1 − \\sin{𝑥} \\cos{𝑥}}$$\n",
    "Pazite na sintaksu: ${\\sin^3 𝑥}$ se unosi kao sin(x)**3!"
   ]
  },
  {
   "cell_type": "code",
   "execution_count": 26,
   "metadata": {},
   "outputs": [
    {
     "data": {
      "text/plain": [
       "True"
      ]
     },
     "execution_count": 26,
     "metadata": {},
     "output_type": "execute_result"
    }
   ],
   "source": [
    "from sympy import *\n",
    "x = symbols('x')\n",
    "a = (sin(x)**3 + cos(x)**3)/(sin(x) + cos(x))\n",
    "b = 1 - sin(x)*cos(x)\n",
    "simplify(a) == simplify(b)"
   ]
  },
  {
   "cell_type": "markdown",
   "metadata": {},
   "source": [
    "### Zadatak 3\n",
    "Za izraz ${f(x)}$ kažemo da je paran, odnosno neparan u varijabli ${x}$ ako vrijedi ${f(x) = f(-x)}$,\n",
    "odnosno ${f(x) = -f(-x)}$. Isprogramirajte funkciju $\\texttt{parnost(izraz, varijabla)}$ koja će\n",
    "testirati to svojstvo i vraćati 1 ako je izraz paran u varijabli, -1 ako je neparan i 0 ako nije ni paran\n",
    "ni neparan."
   ]
  },
  {
   "cell_type": "code",
   "execution_count": 64,
   "metadata": {},
   "outputs": [
    {
     "data": {
      "text/plain": [
       "y**2"
      ]
     },
     "execution_count": 64,
     "metadata": {},
     "output_type": "execute_result"
    }
   ],
   "source": [
    "x, y = symbols('x, y')\n",
    "i = x + y**2\n",
    "i.args[1]"
   ]
  },
  {
   "cell_type": "code",
   "execution_count": 46,
   "metadata": {},
   "outputs": [
    {
     "ename": "TypeError",
     "evalue": "'Pow' object is not callable",
     "output_type": "error",
     "traceback": [
      "\u001b[1;31m---------------------------------------------------------------------------\u001b[0m",
      "\u001b[1;31mTypeError\u001b[0m                                 Traceback (most recent call last)",
      "\u001b[1;32m<ipython-input-46-b66b6678f70c>\u001b[0m in \u001b[0;36m<module>\u001b[1;34m\u001b[0m\n\u001b[0;32m      8\u001b[0m         \u001b[1;32mreturn\u001b[0m \u001b[1;36m0\u001b[0m\u001b[1;33m\u001b[0m\u001b[1;33m\u001b[0m\u001b[0m\n\u001b[0;32m      9\u001b[0m \u001b[1;33m\u001b[0m\u001b[0m\n\u001b[1;32m---> 10\u001b[1;33m \u001b[0mparnost\u001b[0m\u001b[1;33m(\u001b[0m\u001b[0mx\u001b[0m\u001b[1;33m**\u001b[0m\u001b[1;36m2\u001b[0m\u001b[1;33m,\u001b[0m \u001b[0mx\u001b[0m\u001b[1;33m)\u001b[0m\u001b[1;33m\u001b[0m\u001b[1;33m\u001b[0m\u001b[0m\n\u001b[0m",
      "\u001b[1;32m<ipython-input-46-b66b6678f70c>\u001b[0m in \u001b[0;36mparnost\u001b[1;34m(f, x)\u001b[0m\n\u001b[0;32m      1\u001b[0m \u001b[1;32mfrom\u001b[0m \u001b[0msympy\u001b[0m \u001b[1;32mimport\u001b[0m \u001b[1;33m*\u001b[0m\u001b[1;33m\u001b[0m\u001b[1;33m\u001b[0m\u001b[0m\n\u001b[0;32m      2\u001b[0m \u001b[1;32mdef\u001b[0m \u001b[0mparnost\u001b[0m\u001b[1;33m(\u001b[0m\u001b[0mf\u001b[0m\u001b[1;33m,\u001b[0m \u001b[0mx\u001b[0m\u001b[1;33m)\u001b[0m\u001b[1;33m:\u001b[0m\u001b[1;33m\u001b[0m\u001b[1;33m\u001b[0m\u001b[0m\n\u001b[1;32m----> 3\u001b[1;33m     \u001b[1;32mif\u001b[0m \u001b[0mf\u001b[0m\u001b[1;33m(\u001b[0m\u001b[0mx\u001b[0m\u001b[1;33m)\u001b[0m \u001b[1;33m==\u001b[0m \u001b[0mf\u001b[0m\u001b[1;33m(\u001b[0m\u001b[1;33m-\u001b[0m\u001b[0mx\u001b[0m\u001b[1;33m)\u001b[0m\u001b[1;33m:\u001b[0m\u001b[1;33m\u001b[0m\u001b[1;33m\u001b[0m\u001b[0m\n\u001b[0m\u001b[0;32m      4\u001b[0m         \u001b[1;32mreturn\u001b[0m \u001b[1;36m1\u001b[0m\u001b[1;33m\u001b[0m\u001b[1;33m\u001b[0m\u001b[0m\n\u001b[0;32m      5\u001b[0m     \u001b[1;32melif\u001b[0m \u001b[0mf\u001b[0m\u001b[1;33m(\u001b[0m\u001b[0mx\u001b[0m\u001b[1;33m)\u001b[0m \u001b[1;33m==\u001b[0m \u001b[1;33m-\u001b[0m\u001b[0mf\u001b[0m\u001b[1;33m(\u001b[0m\u001b[1;33m-\u001b[0m\u001b[0mx\u001b[0m\u001b[1;33m)\u001b[0m\u001b[1;33m:\u001b[0m\u001b[1;33m\u001b[0m\u001b[1;33m\u001b[0m\u001b[0m\n",
      "\u001b[1;31mTypeError\u001b[0m: 'Pow' object is not callable"
     ]
    }
   ],
   "source": [
    "from sympy import *\n",
    "def parnost(f, x):\n",
    "    if f(x) == f(-x):\n",
    "        return 1\n",
    "    elif f(x) == -f(-x):\n",
    "        return -1\n",
    "    else:\n",
    "        return 0\n",
    "\n",
    "parnost(x**2, x)"
   ]
  },
  {
   "cell_type": "markdown",
   "metadata": {},
   "source": [
    "### Zadatak 4\n",
    "Isprogramirajte funkciju $\\texttt{leg(n, x)}$ koja vraća Legendreov polinom ${𝑃_{n}(𝑥)}$ u simboličkoj varijabli\n",
    "x, koristeći rekurzijsku relaciju\n",
    "$${𝑃_{n}(𝑥) = \\frac{2𝑛 − 1}{𝑛}𝑥𝑃_{𝑛−1}(𝑥) − \\frac{𝑛 − 1}{𝑛}𝑃_{𝑛}(𝑥)}$$\n",
    "Funkcija treba davati identične rezultate kao sympy funkcija legendre(n, x)."
   ]
  },
  {
   "cell_type": "code",
   "execution_count": null,
   "metadata": {},
   "outputs": [],
   "source": [
    "def leg(n, x):\n",
    "    "
   ]
  }
 ],
 "metadata": {
  "kernelspec": {
   "display_name": "Python 3",
   "language": "python",
   "name": "python3"
  },
  "language_info": {
   "codemirror_mode": {
    "name": "ipython",
    "version": 3
   },
   "file_extension": ".py",
   "mimetype": "text/x-python",
   "name": "python",
   "nbconvert_exporter": "python",
   "pygments_lexer": "ipython3",
   "version": "3.8.5"
  }
 },
 "nbformat": 4,
 "nbformat_minor": 4
}
