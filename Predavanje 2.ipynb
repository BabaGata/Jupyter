{
 "cells": [
  {
   "cell_type": "code",
   "execution_count": 1,
   "metadata": {
    "collapsed": true
   },
   "outputs": [],
   "source": [
    "# svaki paket koji mi treba u nekom zadatku importiram u istoj celiji, ne za sve ćelije u jednoj\n",
    "# svaki zadatak rjesavam u samo jednoj celiji\n",
    "# treba dobro birat pakete ze funkcije koje cu koristiti\n",
    "# pazit za latex funkcije (jer se pisu uspravno), isto tako i mjerne jedinice\n",
    "# paket simpy ima x..."
   ]
  },
  {
   "cell_type": "code",
   "execution_count": 2,
   "metadata": {},
   "outputs": [
    {
     "name": "stdout",
     "output_type": "stream",
     "text": [
      "[1, 2, 3, 4, 5, 'a', 56, [3, 4]]\n"
     ]
    },
    {
     "data": {
      "text/plain": [
       "5"
      ]
     },
     "execution_count": 2,
     "metadata": {},
     "output_type": "execute_result"
    }
   ],
   "source": [
    "t1 = [1, 2, 3, 4, 5]       # u listama se operacije ne odvijaju na pojedinim elementima\n",
    "t2 = ['a', 56, [3, 4, ]]   # numpy array omogucava operacije na elementima bez petlji\n",
    "t3 = t1+t2                 # indexi idu od 0\n",
    "print(t3)\n",
    "len(t1)                    # duljina liste"
   ]
  },
  {
   "cell_type": "code",
   "execution_count": 3,
   "metadata": {},
   "outputs": [
    {
     "name": "stdout",
     "output_type": "stream",
     "text": [
      "[1, 2, 3, 4, 5, 32]\n",
      "2\n",
      "[1, 'tri', 3, 4, 5, 32]\n",
      "[3, 4, 5, 32]\n",
      "[3, 5]\n",
      "[4, 5]\n"
     ]
    }
   ],
   "source": [
    "t1.append(32)        # uz pomoć metoda se radi na objektima (lista je objekt, append je metoda)\n",
    "print(t1)\n",
    "print(t1[1])         # ovako se bira index\n",
    "t1[1] = 'tri'        # pythonu je prirodnije '' a ne \"\"\n",
    "print(t1)\n",
    "print(t1[2:6])\n",
    "print(t1[2:6:2])     # zadnja dvojka oznacava da ce se ispisivati svaki drugi broj\n",
    "print(t1[-3:-1])     # negativni brojevi znace da krece brojati od iza"
   ]
  },
  {
   "cell_type": "code",
   "execution_count": 4,
   "metadata": {},
   "outputs": [
    {
     "data": {
      "text/plain": [
       "[1, 3, 5, 7, 9, 11, 13]"
      ]
     },
     "execution_count": 4,
     "metadata": {},
     "output_type": "execute_result"
    }
   ],
   "source": [
    "t1 = [1, 'tri', 5, 7, 9, 11, 13]\n",
    "t1[t1.index('tri')] = 3\n",
    "t1"
   ]
  },
  {
   "cell_type": "code",
   "execution_count": 37,
   "metadata": {},
   "outputs": [
    {
     "data": {
      "text/plain": [
       "[True, True, True, True, True, True, True, True, True, True]"
      ]
     },
     "execution_count": 37,
     "metadata": {},
     "output_type": "execute_result"
    }
   ],
   "source": [
    "import numpy as np\n",
    "\n",
    "[np.sin(1j*n) == 1j*np.sinh(n) for n in [np.random.random() for k in range(10)]]"
   ]
  },
  {
   "cell_type": "code",
   "execution_count": 1,
   "metadata": {},
   "outputs": [
    {
     "name": "stdout",
     "output_type": "stream",
     "text": [
      "Wall time: 0 ns\n",
      "[2, 3, 5, 7, 11, 13, 17, 19, 23, 29, 31, 37, 41, 43, 47, 53, 59, 61, 67, 71, 73, 79, 83, 89, 97]\n",
      "27\n",
      "Wall time: 1 ms\n",
      "27\n",
      "Wall time: 0 ns\n",
      "27\n",
      "Wall time: 0 ns\n",
      "27\n",
      "Wall time: 0 ns\n",
      "28\n",
      "Wall time: 0 ns\n",
      "28\n",
      "Wall time: 0 ns\n",
      "29\n",
      "Wall time: 0 ns\n",
      "29\n",
      "Wall time: 1 ms\n",
      "29\n",
      "Wall time: 1e+03 µs\n",
      "29\n",
      "Wall time: 1e+03 µs\n",
      "30\n",
      "Wall time: 0 ns\n",
      "30\n",
      "Wall time: 0 ns\n",
      "30\n",
      "Wall time: 0 ns\n",
      "30\n",
      "Wall time: 0 ns\n",
      "30\n",
      "Wall time: 0 ns\n",
      "30\n",
      "Wall time: 1 ms\n",
      "30\n",
      "Wall time: 1 ms\n",
      "30\n",
      "Wall time: 0 ns\n",
      "30\n",
      "Wall time: 0 ns\n",
      "30\n",
      "Wall time: 0 ns\n",
      "30\n",
      "Wall time: 0 ns\n",
      "30\n",
      "Wall time: 0 ns\n",
      "30\n",
      "Wall time: 3 ms\n",
      "30\n",
      "Wall time: 1 ms\n",
      "31\n",
      "Wall time: 0 ns\n",
      "31\n",
      "Wall time: 0 ns\n",
      "31\n",
      "Wall time: 0 ns\n",
      "31\n",
      "Wall time: 0 ns\n",
      "32\n",
      "Wall time: 0 ns\n",
      "32\n",
      "Wall time: 0 ns\n",
      "32\n",
      "Wall time: 0 ns\n",
      "32\n",
      "Wall time: 0 ns\n",
      "32\n",
      "Wall time: 0 ns\n",
      "32\n",
      "Wall time: 0 ns\n",
      "33\n",
      "Wall time: 0 ns\n",
      "33\n",
      "Wall time: 0 ns\n",
      "34\n",
      "Wall time: 0 ns\n",
      "34\n",
      "Wall time: 0 ns\n",
      "34\n",
      "Wall time: 0 ns\n",
      "34\n",
      "Wall time: 0 ns\n",
      "34\n",
      "Wall time: 0 ns\n",
      "34\n",
      "Wall time: 0 ns\n",
      "34\n",
      "Wall time: 0 ns\n",
      "34\n",
      "Wall time: 0 ns\n",
      "34\n",
      "Wall time: 0 ns\n",
      "34\n",
      "Wall time: 0 ns\n",
      "35\n",
      "Wall time: 0 ns\n",
      "35\n",
      "Wall time: 0 ns\n",
      "36\n",
      "Wall time: 0 ns\n",
      "36\n",
      "Wall time: 0 ns\n",
      "36\n",
      "Wall time: 0 ns\n",
      "36\n",
      "Wall time: 0 ns\n",
      "36\n",
      "Wall time: 0 ns\n",
      "36\n",
      "Wall time: 0 ns\n",
      "37\n",
      "Wall time: 0 ns\n",
      "37\n",
      "Wall time: 0 ns\n",
      "37\n",
      "Wall time: 0 ns\n",
      "37\n",
      "Wall time: 0 ns\n",
      "37\n",
      "Wall time: 0 ns\n",
      "37\n",
      "Wall time: 0 ns\n",
      "38\n",
      "Wall time: 0 ns\n",
      "38\n",
      "Wall time: 0 ns\n",
      "38\n",
      "Wall time: 0 ns\n",
      "38\n",
      "Wall time: 0 ns\n",
      "39\n",
      "Wall time: 0 ns\n",
      "39\n",
      "Wall time: 0 ns\n",
      "39\n",
      "Wall time: 0 ns\n",
      "39\n",
      "Wall time: 0 ns\n",
      "39\n",
      "Wall time: 0 ns\n",
      "39\n",
      "Wall time: 0 ns\n",
      "40\n",
      "Wall time: 0 ns\n",
      "40\n",
      "Wall time: 0 ns\n",
      "40\n",
      "Wall time: 0 ns\n",
      "40\n",
      "Wall time: 0 ns\n",
      "40\n",
      "Wall time: 0 ns\n",
      "40\n",
      "Wall time: 0 ns\n",
      "41\n",
      "Wall time: 0 ns\n",
      "41\n",
      "Wall time: 0 ns\n",
      "42\n",
      "Wall time: 0 ns\n",
      "42\n",
      "Wall time: 0 ns\n",
      "42\n",
      "Wall time: 0 ns\n",
      "42\n",
      "Wall time: 0 ns\n",
      "42\n",
      "Wall time: 0 ns\n",
      "42\n",
      "Wall time: 0 ns\n",
      "42\n",
      "Wall time: 0 ns\n",
      "42\n",
      "Wall time: 0 ns\n",
      "42\n",
      "Wall time: 0 ns\n",
      "42\n",
      "Wall time: 0 ns\n",
      "43\n",
      "Wall time: 0 ns\n",
      "43\n",
      "Wall time: 0 ns\n",
      "44\n",
      "Wall time: 0 ns\n",
      "44\n",
      "Wall time: 0 ns\n",
      "44\n",
      "Wall time: 15.6 ms\n",
      "44\n",
      "Wall time: 0 ns\n",
      "45\n",
      "Wall time: 0 ns\n",
      "45\n",
      "Wall time: 0 ns\n"
     ]
    }
   ],
   "source": [
    "import sympy\n",
    "\n",
    "%time prim = [n for n in range(100) if sympy.isprime(n)]\n",
    "print(prim)\n",
    "\n",
    "x = 104\n",
    "while x<200:\n",
    "    %time print(len([n for n in range(x) if sympy.isprime(n)]))\n",
    "    x=x+1"
   ]
  },
  {
   "cell_type": "code",
   "execution_count": 38,
   "metadata": {},
   "outputs": [],
   "source": [
    "# t = range(10**6)\n",
    "# [for i in t...]\n",
    "# tako cu zauzeti masu memorije bezveze\n",
    "# zato umjesto toga napravim\n",
    "# [for i in range(10**6)]"
   ]
  },
  {
   "cell_type": "code",
   "execution_count": 40,
   "metadata": {
    "collapsed": true
   },
   "outputs": [],
   "source": [
    "# zadaca je svi zadatci iz lekcije 3 bez treceg zadatka"
   ]
  }
 ],
 "metadata": {
  "kernelspec": {
   "display_name": "Python 3",
   "language": "python",
   "name": "python3"
  },
  "language_info": {
   "codemirror_mode": {
    "name": "ipython",
    "version": 3
   },
   "file_extension": ".py",
   "mimetype": "text/x-python",
   "name": "python",
   "nbconvert_exporter": "python",
   "pygments_lexer": "ipython3",
   "version": "3.8.5"
  }
 },
 "nbformat": 4,
 "nbformat_minor": 2
}
