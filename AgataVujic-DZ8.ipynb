{
 "cells": [
  {
   "cell_type": "markdown",
   "metadata": {},
   "source": [
    "### Zadatak 1\n",
    "Za datu matricu A <font color=blue>definiramo</font> svojstvene vektore (eigenvectors) v i njima pripadajuće svojstvene\n",
    "vrijednosti 𝜆 (eigenvalues) kao rješenja matrične jednadžbe\n",
    "$${𝐴v = \\lambda v}$$\n",
    "Pomoću funkcije <font color=blue>la.eig()</font> odredite svojstvene vrijednosti i svojstvene vektore matrice\n",
    "$${\\begin{pmatrix}\n",
    "2.3 & 4.5 \\\\\n",
    "6.7 & −1.2\n",
    "\\end{pmatrix}}$$\n",
    "i provjerite da dobivena rješenja zaista zadovoljavaju gornju jednadžbu."
   ]
  },
  {
   "cell_type": "code",
   "execution_count": 4,
   "metadata": {},
   "outputs": [
    {
     "name": "stdout",
     "output_type": "stream",
     "text": [
      "lambda1, lambda2 = [ 6.31302872 -5.21302872]\n",
      "v1 = [0.74633537 0.66557006]\n",
      "v2 = [-0.51383926  0.85788648]\n",
      "[ True  True]\n",
      "[ True  True]\n"
     ]
    },
    {
     "data": {
      "text/plain": [
       "[None, None]"
      ]
     },
     "execution_count": 4,
     "metadata": {},
     "output_type": "execute_result"
    }
   ],
   "source": [
    "import numpy as np\n",
    "import numpy.linalg as la\n",
    "\n",
    "A = np.array([[2.3, 4.5], [6.7, -1.2]])\n",
    "\n",
    "lamb, v = la.eig(A)\n",
    "print('lambda1, lambda2 =', lamb)\n",
    "print('v1 =', v[:, 0])\n",
    "print('v2 =', v[:, 1])        \n",
    "[print(np.matrix.round(np.dot(A, v[:, i]), 6) == np.matrix.round(np.dot(lamb[i], v[:, i]), 6)) for i in range(2)]"
   ]
  },
  {
   "cell_type": "markdown",
   "metadata": {},
   "source": [
    "### Zadatak 2\n",
    "Kreirajte 3x3 matricu sa slučajnim realnim brojevima između 0 i 10. Invertirajte je i pomnožite s\n",
    "originalnom matricom te se uvjerite da dobijete jediničnu matricu."
   ]
  },
  {
   "cell_type": "code",
   "execution_count": 2,
   "metadata": {},
   "outputs": [
    {
     "data": {
      "text/plain": [
       "array([[ 1., -0., -0.],\n",
       "       [ 0.,  1.,  0.],\n",
       "       [ 0., -0.,  1.]])"
      ]
     },
     "execution_count": 2,
     "metadata": {},
     "output_type": "execute_result"
    }
   ],
   "source": [
    "import numpy as np\n",
    "from random import uniform\n",
    "import numpy.linalg as la\n",
    "\n",
    "B = np.array([[uniform(0,10) for k in range(3)] for i in range(3)])\n",
    "la.inv(B)\n",
    "np.matrix.round(np.dot(B, la.inv(B)))"
   ]
  }
 ],
 "metadata": {
  "kernelspec": {
   "display_name": "Python 3",
   "language": "python",
   "name": "python3"
  },
  "language_info": {
   "codemirror_mode": {
    "name": "ipython",
    "version": 3
   },
   "file_extension": ".py",
   "mimetype": "text/x-python",
   "name": "python",
   "nbconvert_exporter": "python",
   "pygments_lexer": "ipython3",
   "version": "3.8.5"
  }
 },
 "nbformat": 4,
 "nbformat_minor": 4
}
