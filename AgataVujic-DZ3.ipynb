{
 "cells": [
  {
   "cell_type": "markdown",
   "metadata": {},
   "source": [
    "### Zadatak 5, Poglavlje 3.1\n",
    "Koristeći raspakiravanje tuplova u kombinaciji s obuhvaćanjem liste pretvorite ovu listu vektora\n",
    "$\\texttt{tt = [(𝑟1, 𝜃1), (𝑟2, 𝜃2), . . .]}$ iz 2D polarnog sustava u kartezijev:\n",
    "$\\texttt{[(𝑥1, 𝑦1), (𝑥2, 𝑦2), . . .]}$.\n",
    "Nakon toga transformirajte nastalu listu kartezijevih vektora u listu kartezijevih vektora s cjelobrojnim\n",
    "koordinatama, zaokruživanjem vrijednosti x i y koordinata pomoću funkcije $\\texttt{round()}$."
   ]
  },
  {
   "cell_type": "code",
   "execution_count": 6,
   "metadata": {},
   "outputs": [
    {
     "name": "stdout",
     "output_type": "stream",
     "text": [
      "[(0.9915951823340061, 1.9974080690665061), (2.989169911436491, 4.0080997044188855), (4.9761504361909115, 6.01947064420095), (7.015620840757361, 7.986110706641312)]\n",
      "[(1, 2), (3, 4), (5, 6), (7, 8)]\n"
     ]
    }
   ],
   "source": [
    "import numpy as np\n",
    "tt = [(2.23, 1.11), (5.0, 0.93), (7.81, 0.88), (10.63, 0.85)]\n",
    "kartezijev = [(r*np.cos(theta), r*np.sin(theta)) for r, theta in tt]\n",
    "print(kartezijev)\n",
    "print([(round(x), round(y)) for x,y in kartezijev])"
   ]
  },
  {
   "cell_type": "markdown",
   "metadata": {},
   "source": [
    "### Zadatak 6, Poglavlje 3.1\n",
    "Izračunajte prosjek godina ljudi iz slijedećeg rječnika (rezultat treba biti decimalni broj). Koristite\n",
    "funkciju $\\texttt{mean}$. Vaš kod neka ne sadrži ni jedan broj."
   ]
  },
  {
   "cell_type": "code",
   "execution_count": 5,
   "metadata": {},
   "outputs": [
    {
     "data": {
      "text/plain": [
       "74.25"
      ]
     },
     "execution_count": 5,
     "metadata": {},
     "output_type": "execute_result"
    }
   ],
   "source": [
    "import numpy as np\n",
    "ages = {'john' : 76, 'paul': 73, 'george': 73, 'ringo': 75}\n",
    "np.mean([val for val in ages.values()])"
   ]
  },
  {
   "cell_type": "markdown",
   "metadata": {},
   "source": [
    "### Zadatak 7, Poglavlje 3.1\n",
    "Za spajanje dvije jednako duge 1D liste u 2D listu (zapravo listu tuplova) koristimo naredbu $\\texttt{zip}$.\n",
    "\n",
    "\n",
    "Rastavite listu $\\texttt{points}$ natrag na originalne dvije 1D liste i to dvjema različitim metodama:\n",
    "1. Dva obuhvaćanja liste $\\texttt{points}$ (ova metoda nema veze s NumPy-em)\n",
    "2. Dva reza kroz listu $\\texttt{points}$, koju prvo pretvorite u NumPy polje pomoću $\\texttt{np.array}$."
   ]
  },
  {
   "cell_type": "code",
   "execution_count": 4,
   "metadata": {},
   "outputs": [
    {
     "name": "stdout",
     "output_type": "stream",
     "text": [
      "[(11, -1), (12, -2), (13, -3), (14, -4), (15, -5)]\n",
      "Raspakiravanjem liste: xs = [11, 12, 13, 14, 15] ;  ys = [-1, -2, -3, -4, -5]\n",
      "Np rez liste: xs = [11 12 13 14 15] ;  ys = [-1 -2 -3 -4 -5]\n"
     ]
    }
   ],
   "source": [
    "import numpy as np\n",
    "xs = [11, 12, 13, 14, 15]\n",
    "ys = [-1, -2, -3, -4, -5]\n",
    "points = list(zip(xs, ys))\n",
    "print(points)\n",
    "print('Raspakiravanjem liste: xs =', [x for x, y in points],';  ys =', [y for x, y in points])\n",
    "npoints = np.array(points)\n",
    "print('Np rez liste: xs =', npoints[:,0],';  ys =', npoints[:,1])"
   ]
  },
  {
   "cell_type": "markdown",
   "metadata": {},
   "source": [
    "### Zadatak 1, Poglavlje 3.2\n",
    "Isprogramirajte petlju koja će pomnožiti sve brojeve od 1 do 7 (dakle, izračunati će 7!). Riješite\n",
    "zadatak jednom koristeći $\\texttt{for}$ petlju, a drugi put while $\\texttt{petlju}$."
   ]
  },
  {
   "cell_type": "code",
   "execution_count": 3,
   "metadata": {},
   "outputs": [
    {
     "name": "stdout",
     "output_type": "stream",
     "text": [
      "For petlja: 5040\n",
      "While petlja: 5040\n"
     ]
    }
   ],
   "source": [
    "x = 1\n",
    "a = 1\n",
    "y = 1\n",
    "for i in range(1,8):\n",
    "    y = y*i\n",
    "print('For petlja:', y)    \n",
    "while x < 7:\n",
    "    x = x + 1\n",
    "    a = a*x\n",
    "print('While petlja:', a)"
   ]
  },
  {
   "cell_type": "markdown",
   "metadata": {},
   "source": [
    "### Zadatak 1, Poglavlje 3.3\n",
    "Isprogramirajte funkciju $\\texttt{fib(n)}$ koja računa n-ti član <font color=green>Fibonaccijevog niza</font> (niz kod kojeg je\n",
    "svaki član definiran kao zbroj prethodna dva, a javlja se pri analizi idealizirane populacije zečeva).\n",
    "$\\texttt{fib(4) = 3}$."
   ]
  },
  {
   "cell_type": "code",
   "execution_count": 2,
   "metadata": {},
   "outputs": [
    {
     "name": "stdout",
     "output_type": "stream",
     "text": [
      "3\n"
     ]
    }
   ],
   "source": [
    "def fibonacci(n):\n",
    "    if n<=2:\n",
    "        return 1\n",
    "    else:\n",
    "        return fibonacci(n-1)+fibonacci(n-2)\n",
    "    \n",
    "print(fibonacci(4))    "
   ]
  },
  {
   "cell_type": "markdown",
   "metadata": {},
   "source": [
    "### Zadatak 2, Poglavlje 3.3\n",
    "Isprogramirajte funkciju $\\texttt{fibBinet(n)}$ koja računa n-ti član Fibonaccijevog niza putem Binetove\n",
    "formule \n",
    "$$F(n) = \\frac{\\varphi ^n - \\cos(n\\pi)\\varphi ^{-n}}{\\sqrt{5}}$$\n",
    "gdje je $\\varphi = 1.618$ . . . tzv. zlatni omjer.\n",
    "\n",
    "Uvjerite se da dobivate dobre vrijednosti za neke $\\texttt{n}$."
   ]
  },
  {
   "cell_type": "code",
   "execution_count": 1,
   "metadata": {},
   "outputs": [
    {
     "name": "stdout",
     "output_type": "stream",
     "text": [
      "2.0\n"
     ]
    }
   ],
   "source": [
    "from scipy.constants import golden_ratio, pi\n",
    "import numpy as np\n",
    "def fibBinet(n):\n",
    "    a = golden_ratio**n - np.cos(n*pi)*(golden_ratio**(-n))\n",
    "    d = np.sqrt(5)\n",
    "    F = a/d\n",
    "    return F\n",
    "print(fibBinet(3))"
   ]
  }
 ],
 "metadata": {
  "kernelspec": {
   "display_name": "Python 3",
   "language": "python",
   "name": "python3"
  },
  "language_info": {
   "codemirror_mode": {
    "name": "ipython",
    "version": 3
   },
   "file_extension": ".py",
   "mimetype": "text/x-python",
   "name": "python",
   "nbconvert_exporter": "python",
   "pygments_lexer": "ipython3",
   "version": "3.8.5"
  }
 },
 "nbformat": 4,
 "nbformat_minor": 4
}
