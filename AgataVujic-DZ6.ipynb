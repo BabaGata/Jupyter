{
 "cells": [
  {
   "cell_type": "markdown",
   "metadata": {},
   "source": [
    "### Zadatak 1\n",
    "Riješite sustav jednadžbi\n",
    "$${𝑥 + 𝑦 = 3}$$\n",
    "$${2𝑥 + 2𝑦 = 6}$$\n",
    "Koliko ima rješenja?"
   ]
  },
  {
   "cell_type": "code",
   "execution_count": 45,
   "metadata": {},
   "outputs": [
    {
     "data": {
      "text/latex": [
       "$\\displaystyle \\left\\{\\left( 3 - y, \\  y\\right)\\right\\}$"
      ],
      "text/plain": [
       "FiniteSet((3 - y, y))"
      ]
     },
     "execution_count": 45,
     "metadata": {},
     "output_type": "execute_result"
    }
   ],
   "source": [
    "from sympy import *\n",
    "x, y = symbols('x, y')\n",
    "eqns = [x + y -3, 2*x + 2*y -6]\n",
    "sol = linsolve(eqns, x, y)\n",
    "sol"
   ]
  },
  {
   "cell_type": "markdown",
   "metadata": {},
   "source": [
    "### Zadatak 2\n",
    "Riješite jednadžbu\n",
    "$${\\tan 𝑥 − \\frac{𝑥}{10}= 0 .}$$"
   ]
  },
  {
   "cell_type": "code",
   "execution_count": 19,
   "metadata": {},
   "outputs": [
    {
     "data": {
      "text/plain": [
       "array([3.47614031])"
      ]
     },
     "execution_count": 19,
     "metadata": {},
     "output_type": "execute_result"
    }
   ],
   "source": [
    "from sympy import *\n",
    "from scipy import *\n",
    "from scipy.optimize import root\n",
    "import numpy as np\n",
    "\n",
    "def fun(x):\n",
    "    return np.tan(x) - x/10\n",
    "root(fun, 4).x"
   ]
  },
  {
   "cell_type": "markdown",
   "metadata": {},
   "source": [
    "### Zadatak 3\n",
    "Pronađite pozicije lokalnog minimuma te lokalnog maksimuma gama funkcije ${\\Gamma(x)}$ koji su najbliži\n",
    "točki 𝑥 = 0"
   ]
  },
  {
   "cell_type": "code",
   "execution_count": 43,
   "metadata": {},
   "outputs": [
    {
     "name": "stdout",
     "output_type": "stream",
     "text": [
      "Optimization terminated successfully.\n",
      "         Current function value: 0.885603\n",
      "         Iterations: 39\n",
      "         Function evaluations: 79\n",
      "Min:  final_simplex: (array([[1.46163214],\n",
      "       [1.46163215]]), array([0.88560319, 0.88560319]))\n",
      "           fun: 0.8856031944108886\n",
      "       message: 'Optimization terminated successfully.'\n",
      "          nfev: 79\n",
      "           nit: 39\n",
      "        status: 0\n",
      "       success: True\n",
      "             x: array([1.46163214])\n",
      "Warning: Maximum number of function evaluations has been exceeded.\n",
      "Max:  final_simplex: (array([[0.00000000e+00],\n",
      "       [3.94430453e-34]]), array([          -inf, -2.5353012e+33]))\n",
      "           fun: -inf\n",
      "       message: 'Maximum number of function evaluations has been exceeded.'\n",
      "          nfev: 200\n",
      "           nit: 100\n",
      "        status: 1\n",
      "       success: False\n",
      "             x: array([0.])\n"
     ]
    }
   ],
   "source": [
    "from scipy.special import gamma\n",
    "from scipy.optimize import minimize\n",
    "\n",
    "def za_max(x):\n",
    "    return -gamma(x)\n",
    "\n",
    "print('Min:', minimize(gamma, 0, method='Nelder-Mead', tol=1e-4, options={'xtol': 1e-8, 'disp': True}))\n",
    "print('Max:', minimize(za_max, 0, method='Nelder-Mead', tol=1e-4, options={'xtol': 1e-8, 'disp': True}))"
   ]
  },
  {
   "cell_type": "markdown",
   "metadata": {},
   "source": [
    "### Zadatak 4\n",
    "Pronađite pozicije lokalnih minimuma i maksimuma Besselove funkcije ${𝐽_{1}(𝑥)}$ koji su najbliži točki\n",
    "𝑥 = 0."
   ]
  },
  {
   "cell_type": "code",
   "execution_count": 42,
   "metadata": {},
   "outputs": [
    {
     "name": "stdout",
     "output_type": "stream",
     "text": [
      "Optimization terminated successfully.\n",
      "         Current function value: -0.581865\n",
      "         Iterations: 40\n",
      "         Function evaluations: 80\n",
      "Min:  final_simplex: (array([[-1.84118378],\n",
      "       [-1.84118379]]), array([-0.58186522, -0.58186522]))\n",
      "           fun: -0.5818652242815965\n",
      "       message: 'Optimization terminated successfully.'\n",
      "          nfev: 80\n",
      "           nit: 40\n",
      "        status: 0\n",
      "       success: True\n",
      "             x: array([-1.84118378])\n",
      "Optimization terminated successfully.\n",
      "         Current function value: -0.581865\n",
      "         Iterations: 40\n",
      "         Function evaluations: 80\n",
      "Max:  final_simplex: (array([[1.84118378],\n",
      "       [1.84118379]]), array([-0.58186522, -0.58186522]))\n",
      "           fun: -0.5818652242815965\n",
      "       message: 'Optimization terminated successfully.'\n",
      "          nfev: 80\n",
      "           nit: 40\n",
      "        status: 0\n",
      "       success: True\n",
      "             x: array([1.84118378])\n"
     ]
    }
   ],
   "source": [
    "from scipy.special import j1\n",
    "from scipy.optimize import minimize\n",
    "\n",
    "def za_Max(x):\n",
    "    return -j1(x)\n",
    "\n",
    "print('Min:', minimize(j1, 0, method='Nelder-Mead', tol=1e-4, options={'xtol': 1e-8, 'disp': True}))\n",
    "print('Max:', minimize(za_Max, 0, method='Nelder-Mead', tol=1e-4, options={'xtol': 1e-8, 'disp': True}))"
   ]
  },
  {
   "cell_type": "markdown",
   "metadata": {},
   "source": [
    "### Zadatak 5\n",
    "Krivulje\n",
    "$${𝑦 = 2𝑥^2 + \\alpha𝑥 + 3\\alpha}$$\n",
    "za svaki ${\\alpha}$ prolaze kroz istu točku ${(𝑥_{0}, 𝑦_{0})}$. (U to se možete i grafički uvjeriti.) Definirajte funkciju\n",
    "${𝑦(𝑥, \\alpha)}$, zatim rješavanjem sustava jednadžbi odredite tu točku i na kraju ispišite broj ${𝑥_{0} + 𝑦_{0}}$."
   ]
  },
  {
   "cell_type": "code",
   "execution_count": 47,
   "metadata": {},
   "outputs": [
    {
     "name": "stdout",
     "output_type": "stream",
     "text": [
      "Rješenje: [-3.00000000000000 18.0000000000000] x0 + y0 = 15.0000000000000\n"
     ]
    },
    {
     "data": {
      "text/plain": [
       "<matplotlib.collections.PathCollection at 0x24c38bdb790>"
      ]
     },
     "execution_count": 47,
     "metadata": {},
     "output_type": "execute_result"
    },
    {
     "data": {
      "image/png": "[encoded data removed]",
      "text/plain": [
       "<Figure size 432x288 with 1 Axes>"
      ]
     },
     "metadata": {
      "needs_background": "light"
     },
     "output_type": "display_data"
    }
   ],
   "source": [
    "from sympy import *\n",
    "import numpy as np\n",
    "from scipy.optimize import fsolve\n",
    "import matplotlib.pyplot as plt\n",
    "\n",
    "def Y(x, alpha):\n",
    "    return 2 * x**2 + alpha * x + 3 * alpha\n",
    "\n",
    "x, y = symbols('x, y')\n",
    "\n",
    "d = np.linspace(-8, 2)\n",
    "alpha = np.linspace(1, 10, 5)\n",
    "\n",
    "eqns = [Eq(Y(x, a), y) for a in alpha]\n",
    "eqns = np.array(eqns)\n",
    "z = np.array(solve(eqns, (x, y)))\n",
    "print('Rješenje:', z[0], 'x0 + y0 =', z[0, 0]+z[0, 1])\n",
    "\n",
    "[plt.plot(d, Y(d, a)) for a in alpha]\n",
    "plt.scatter(z[0, 0], z[0, 1])"
   ]
  }
 ],
 "metadata": {
  "kernelspec": {
   "display_name": "Python 3",
   "language": "python",
   "name": "python3"
  },
  "language_info": {
   "codemirror_mode": {
    "name": "ipython",
    "version": 3
   },
   "file_extension": ".py",
   "mimetype": "text/x-python",
   "name": "python",
   "nbconvert_exporter": "python",
   "pygments_lexer": "ipython3",
   "version": "3.8.5"
  }
 },
 "nbformat": 4,
 "nbformat_minor": 4
}
